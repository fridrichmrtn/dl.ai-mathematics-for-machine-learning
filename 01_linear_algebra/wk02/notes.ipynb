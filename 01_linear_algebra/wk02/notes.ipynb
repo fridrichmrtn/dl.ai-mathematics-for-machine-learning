{
 "cells": [
  {
   "cell_type": "markdown",
   "metadata": {},
   "source": [
    "# Solving systems of linear equations\n",
    "\n",
    "### Row-echelon form\n",
    "\n",
    "* upper diagonal matrix with pivot elements on diagonal being 1 or 0\n",
    "    * zero rows on the bottom\n",
    "    * each row has a pivot\n",
    "    * every pivot is to the right of the pivots above\n",
    "* can be achieved through singularity preserving operations:\n",
    "    * reording of the rows\n",
    "    * row addition\n",
    "    * multiplication of a row and a scalar\n",
    "* is used to estimate rank (number of independent rows) - number of pivot elements\n",
    "\n",
    "### Reduced row-echelon form\n",
    "\n",
    "* special case of row-echelon form\n",
    "* each pivot is a 1\n",
    "* any number above pivot is 0\n",
    "* rank of the matrix is the number of pivots\n",
    "\n",
    "### Gaussian elimination\n",
    "\n",
    "* verticaly stack coefficients from LHS with constants on RHS,\n",
    "* get row-echelon form for the LHS (scale pivots, subtract rows)\n",
    "* go from bottom of the matrix up, the goal is to form reduced row-echelon form by \"zeroing\" columns above by subtraction\n",
    "* for singular matrix - bottom row may contain only zeros (inf solutions) or inequality (no solution)"
   ]
  },
  {
   "cell_type": "markdown",
   "metadata": {},
   "source": []
  }
 ],
 "metadata": {
  "kernelspec": {
   "display_name": ".env",
   "language": "python",
   "name": "python3"
  },
  "language_info": {
   "codemirror_mode": {
    "name": "ipython",
    "version": 3
   },
   "file_extension": ".py",
   "mimetype": "text/x-python",
   "name": "python",
   "nbconvert_exporter": "python",
   "pygments_lexer": "ipython3",
   "version": "3.8.10"
  }
 },
 "nbformat": 4,
 "nbformat_minor": 2
}
