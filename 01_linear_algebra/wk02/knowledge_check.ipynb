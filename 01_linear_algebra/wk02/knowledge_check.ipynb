{
 "cells": [
  {
   "cell_type": "markdown",
   "metadata": {},
   "source": [
    "### Check your knowledge\n",
    "\n",
    "\n",
    "(1)  Solve the system of equations below.\n",
    "\n",
    "$$\n",
    "4*x+3*y=6\\\\\n",
    "x-5*y=8\n",
    "$$\n",
    "\n",
    "Solution:  \n",
    "\n",
    "$$\n",
    "4*x+3*y=6\\\\\n",
    "-4*x+20*y=-32\\\\\n",
    "$$\n",
    "<hr/>\n",
    "\n",
    "$$\n",
    "4*x+3*y=6\\\\\n",
    "0x+23y=-26\\\\\n",
    "y=-26/23\n",
    "$$\n",
    "<hr/>\n",
    "\n",
    "$$\n",
    "x = 6-3*y\\\\\n",
    "x = (6-3*(-26/23))/4\\\\\n",
    "x = (6*23+3*26)/(23*4)\\\\\n",
    "x = \\frac{54}{23}\\\\\n",
    "$$\n",
    "\n",
    "(2) Solve the system of equations below.\n",
    "\n",
    "$$\n",
    "4*x+3*y+z=6\\\\\n",
    "x-5y+7z=8\\\\\n",
    "5*x-2*y+8*z=14\n",
    "$$\n",
    "<hr/>\n",
    "\n",
    "Solution:  \n",
    "$$\n",
    "\\begin{bmatrix}\n",
    "    1 & -5 & 7 & | & 6 \\\\\n",
    "    0 & 1 & \\frac{31}{23} & | & \\frac{26}{23} \\\\\n",
    "    0 & 0 & 0 & | & 0 \\\\  \n",
    "\\end{bmatrix}\n",
    "$$\n",
    "\n",
    "The row-echelon form of the matrix suggests that the system is singular with infinitely many solutions.\n",
    "\n",
    "(3) Is the matrix above in row echelon form?  \n",
    "\n",
    "Solution:  \n",
    "Yes.  \n",
    "\n",
    "(4) What is its rank?\n",
    "\n",
    "Solution:  \n",
    "2\n",
    "\n",
    "(5) What are the operations that can be done in a row of a matrix that preserves its singularity?\n",
    "\n",
    "Solution:\n",
    "\n",
    "* reording of the rows,\n",
    "* multiplication by scalar value,\n",
    "* row addition."
   ]
  },
  {
   "cell_type": "code",
   "execution_count": 18,
   "metadata": {},
   "outputs": [
    {
     "name": "stdout",
     "output_type": "stream",
     "text": [
      "q1 determinant> -23.0\n",
      "q1 solution> [ 2.34782609 -1.13043478]\n",
      "q2 determinant> 0.0\n"
     ]
    }
   ],
   "source": [
    "\n",
    "import numpy as np\n",
    "# check q1\n",
    "A = np.array([[4,3],[1,-5]])\n",
    "B = np.array([6,8])\n",
    "print(f\"q1 determinant> {np.linalg.det(A)}\")\n",
    "print(f\"q1 solution> {np.linalg.solve(A,B)}\")\n",
    "# check q2\n",
    "A = np.array([[4,3,1],[1,-5,7],[5,-2,8]])\n",
    "B = np.array([6,8,14])\n",
    "print(f\"q2 determinant> {np.linalg.det(A)}\")"
   ]
  }
 ],
 "metadata": {
  "kernelspec": {
   "display_name": ".env",
   "language": "python",
   "name": "python3"
  },
  "language_info": {
   "codemirror_mode": {
    "name": "ipython",
    "version": 3
   },
   "file_extension": ".py",
   "mimetype": "text/x-python",
   "name": "python",
   "nbconvert_exporter": "python",
   "pygments_lexer": "ipython3",
   "version": "3.8.10"
  }
 },
 "nbformat": 4,
 "nbformat_minor": 2
}
