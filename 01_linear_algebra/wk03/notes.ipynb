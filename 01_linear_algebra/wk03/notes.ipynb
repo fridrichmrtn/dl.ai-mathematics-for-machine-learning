{
 "cells": [
  {
   "cell_type": "markdown",
   "metadata": {},
   "source": [
    "# Vectors and lin transformations\n",
    "\n",
    "### Vectors\n",
    "\n",
    "* point of origin, direction, magnitude (norm)\n",
    "* L1 (manhattan) vs L2 norms (euclidean)\n",
    "* operations\n",
    "    * addition/subtraction - component by component, geometrically as parallelogram\n",
    "    * multiplying by scalar - resizing (reorientation if negative)\n",
    "\n",
    "### Dot product\n",
    "\n",
    "* element-wise multiplication and sum of the results \n",
    "* L2 norm is square root of a dot product of a vector and itself\n",
    "* columns->rows, rows->columns is a transpose\n",
    "* dot product notation $<x,y>$ or  $x^T y$\n",
    "\n",
    "Properties:  \n",
    "* dot product of orthogonal vectors $u$ and $v$ is 0,\n",
    "* dot product between two indentical vectors $u$ is $|u|^2$\n",
    "* dot product between two vectors $u$ and $v$ is $|u|\\cdot|v|*cos \\theta$\n",
    "* the sign of the dot product depends on projection of the second one on the first one (orthogonal vector separating those two)\n",
    "\n",
    "Systems of equations  \n",
    "* can be represented as a dot product of coeficient matrix, and variables\n",
    "* inner dimensions must be same (columns of the first matrix = rows of the second matrix/vector) !\n",
    "\n",
    "### Linear transformations\n",
    "\n",
    "* dot product can map one space to another in a structured way\n",
    "* change of coordinaces from one basis (ie rectangular shape) to another (ie parallelogram shape)\n",
    "\n",
    "### Matrix multiplication\n",
    "\n",
    "* combines two linear transformations into a third one\n",
    "* multiple dot products (row from left mat, column from the right mat for each corresponding element of resulting mat)\n",
    "* inner dimensions must be same (n cols from the left mat equals n rows from the right mat)\n",
    "* resulting mat - based on outer dimensions of the mat (n rows from the left mat, n cols from the right mat)\n",
    "* identity matrix - does not change the result of matmul (equivalent to scalar mult by 1), ones on the diagonal\n",
    "* inverse matrix\n",
    "    * undoes the linear transformation, matmul with original matrix produces identity matrix,\n",
    "    * $X \\cdot  X^{-1} = I$\n",
    "    * singular mats do not have inverse (determinant zero, similar to non-zero division)"
   ]
  }
 ],
 "metadata": {
  "language_info": {
   "name": "python"
  }
 },
 "nbformat": 4,
 "nbformat_minor": 2
}
