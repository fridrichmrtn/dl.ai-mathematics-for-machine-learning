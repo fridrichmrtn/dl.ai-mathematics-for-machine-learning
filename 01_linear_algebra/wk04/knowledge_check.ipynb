{
 "cells": [
  {
   "cell_type": "markdown",
   "metadata": {},
   "source": [
    "### Check your knowledge"
   ]
  }
 ],
 "metadata": {
  "language_info": {
   "name": "python"
  }
 },
 "nbformat": 4,
 "nbformat_minor": 2
}
