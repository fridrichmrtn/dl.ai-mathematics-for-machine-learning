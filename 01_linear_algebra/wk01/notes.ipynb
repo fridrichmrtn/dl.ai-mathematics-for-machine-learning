{
 "cells": [
  {
   "cell_type": "markdown",
   "metadata": {},
   "source": [
    "# System of linear equations\n",
    "\n",
    "### Types of systems\n",
    "\n",
    "* Complete (non-singular) - unique solution\n",
    "* Redundant (singular) - infinitely many solutions\n",
    "* Contradictory (singular) - solution does not exist\n",
    "\n",
    "\n",
    "### Visual solutions\n",
    "\n",
    "* Complete system\n",
    "    * 2 variables - unique point\n",
    "* Redundant system\n",
    "    * 2 variables, linear dependence - line overlap (inf solutions)\n",
    "    * 3 variables, linear dependence - line or plane (inf solutions)\n",
    "* Contradictory system\n",
    "    * 2 variables - two lines are parallel (no solution)\n",
    "\n",
    "### Equations as matrices\n",
    "\n",
    "* Singularity/non-singularity of the matrix based on systems of equations\n",
    "    * constants can be omitted for the diagnostics\n",
    "\n",
    "* Diagnostics can be done through calculation of determinant of the matrix\n",
    "    * 2 x 2 matrix singular -> $ad-bc = 0$\n",
    "    * larger matrices -> diagonals from left to right, minus diagonals from right to left\n",
    "    * more details on determinant [here](https://en.wikipedia.org/wiki/Determinant)\n",
    "\n",
    "\n",
    "### Useful numpy\n",
    "* `np.linalg.solve` - solving a system of linear equations\n",
    "* `np.linalg.det` - getting determinant\n",
    "\n",
    "\n",
    "\n",
    "\n"
   ]
  }
 ],
 "metadata": {
  "language_info": {
   "name": "python"
  }
 },
 "nbformat": 4,
 "nbformat_minor": 2
}
