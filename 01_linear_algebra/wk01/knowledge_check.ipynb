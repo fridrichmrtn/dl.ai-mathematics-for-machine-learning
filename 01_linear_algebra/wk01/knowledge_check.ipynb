{
 "cells": [
  {
   "cell_type": "markdown",
   "metadata": {},
   "source": [
    "### Check your knowledge\n",
    "\n",
    "(1) Translate the following description into a system of linear equations. Bob has a mixture of apples and oranges of the same size, which he split into two bags. The first bag contains 4 apples and 3 oranges and weighs 700g. The second bag contains 2 apples and 6 oranges and weighs 1000g. \n",
    "\n",
    "Solution:  \n",
    "$$4*weight_{apple}+3*weight_{orange} = 700 \\\\\n",
    "2*weight_{apple}+6*weight_{orange} = 1000$$\n",
    "\n",
    "\n",
    "(2) Translate the following system of linear equations into the matrix form:\n",
    "\n",
    "$$\n",
    "5x+3y+5z=6\\\n",
    "7x+2y+8z=17\\\\\n",
    "4x+3z=8\n",
    "$$\n",
    "\n",
    "Solution:  \n",
    "\\begin{bmatrix}\n",
    "    5 & 3 & 5 & | & 6 \\\\\n",
    "    7 & 2 & 8 & | & 17 \\\\\n",
    "    4 & 0 & 3 & | & 8 \\\\   \n",
    "\\end{bmatrix}\n",
    "\n",
    "(3) Compute determinant of the following matrix:\n",
    "\n",
    "\\begin{bmatrix}\n",
    "    1 & 2 & 1 \\\\\n",
    "    0 & 3 & 5 \\\\\n",
    "    4 & 3 & 8 \\\\   \n",
    "\\end{bmatrix}\n",
    "\n",
    "Solution:  \n",
    "$$\n",
    "D = [(1*3+8)+(2*5*4)+(1*0*3)]-[(4*3*1)+(0*2*8)+(3*5*1)]\\\\\n",
    "D = (24+40)-(12+15)\\\\\n",
    "D = 37\n",
    "$$\n",
    "\n",
    "(4) Does the matrix above have any linear dependent row?\n",
    "\n",
    "Solution:  \n",
    "No. Non-zero determinant shows that the matrix is non-singular.\n",
    "\n",
    "(5) Is the matrix singular or non singular? \n",
    "\n",
    "Solution:  \n",
    "Non-zero determinant shows that the matrix is non-singular."
   ]
  },
  {
   "cell_type": "code",
   "execution_count": 3,
   "metadata": {},
   "outputs": [
    {
     "data": {
      "text/plain": [
       "36.99999999999999"
      ]
     },
     "execution_count": 3,
     "metadata": {},
     "output_type": "execute_result"
    }
   ],
   "source": [
    "# check on q3\n",
    "import numpy as np\n",
    "mat = np.array([[1,2,1],[0,3,5],[4,3,8]])\n",
    "np.linalg.det(mat)"
   ]
  }
 ],
 "metadata": {
  "kernelspec": {
   "display_name": ".env",
   "language": "python",
   "name": "python3"
  },
  "language_info": {
   "codemirror_mode": {
    "name": "ipython",
    "version": 3
   },
   "file_extension": ".py",
   "mimetype": "text/x-python",
   "name": "python",
   "nbconvert_exporter": "python",
   "pygments_lexer": "ipython3",
   "version": "3.8.10"
  }
 },
 "nbformat": 4,
 "nbformat_minor": 2
}
