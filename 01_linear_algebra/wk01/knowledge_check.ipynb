{
 "cells": [
  {
   "cell_type": "markdown",
   "metadata": {},
   "source": [
    "### Check your knowledge\n",
    "\n",
    "(1) Translate the following description into a system of linear equations. Bob has a mixture of apples and oranges of the same size, which he split into two bags. The first bag contains 4 apples and 3 oranges and weighs 700g. The second bag contains 2 apples and 6 oranges and weighs 1000g. \n",
    "\n",
    "Solution:  \n",
    "$4*weight_{apple}+3*weight_{orange} = 700$  \n",
    "$2*weight_{apple}+6*weight_{orange} = 1000$\n",
    "\n",
    "\n",
    "(2) Translate the following system of linear equations into the matrix form:"
   ]
  }
 ],
 "metadata": {
  "kernelspec": {
   "display_name": ".env",
   "language": "python",
   "name": "python3"
  },
  "language_info": {
   "name": "python",
   "version": "3.8.10"
  }
 },
 "nbformat": 4,
 "nbformat_minor": 2
}
