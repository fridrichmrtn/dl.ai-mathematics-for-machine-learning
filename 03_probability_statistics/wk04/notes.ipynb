{
 "cells": [
  {
   "cell_type": "markdown",
   "metadata": {},
   "source": [
    "# Confidence intervals\n",
    "\n",
    "* confidence interval is an interval of values that is lower and upper limit which contains a population parameter\n",
    "* symmetrical around point estimate, confidence level positively related to interval range\n",
    "* cofidence level -> proportion of guesses of a parameter within the search distance of the population parameter\n",
    "* significance level -> complement to confidence level\n",
    "* confidence interval -> $\\bar\\mu \\pm MOE$, $\\bar{X} \\sim N(\\mu,\\frac{\\sigma^2}{n})$\n",
    "* margin of error -> z-scores estimates to find critical values, then for $\\alpha=0.05$, $\\mu \\pm 1.96 \\cdot \\sigma/\\sqrt n$\n",
    "* confidence (success rate for constructing the confidence interval, population parameter has no distribution, it is just unknown) vs probability\n",
    "\n",
    "Calculation steps\n",
    "* find the sample mean\n",
    "* pick significance level $\\alpha$\n",
    "* get critical value $z_{1-\\alpha/2}$\n",
    "* find standard error $\\sigma/\\sqrt n$\n",
    "* find margin of error $z_{1-\\alpha/2} \\sigma/\\sqrt n$\n",
    "* add/subtract the margin of error from sample mean\n",
    "* for cases with unknown variance, use sample variance and student's t-distribution for estimating the MOE. Degree of freedom $n-1$ (governs how tight the t-distribution is)\n",
    "* **assumptions** -> random sample, no of observations > 30\n",
    "\n",
    "NOTE: MOE for proportions is calculated as $z_{1-\\alpha/2}\\cdot\\sqrt{\\frac{\\hat{p}(1-\\hat{p})}{n}}$"
   ]
  },
  {
   "cell_type": "markdown",
   "metadata": {},
   "source": [
    "# Hypothesis testing\n",
    "\n",
    "* null & alternative hypothesis complement each other (is ham/is spam?)\n",
    "* type I error (false positive), type II error (false negative)\n",
    "* significance level -> max probability of type I error\n",
    "* p-value -> probability that we are observing parameters under the null hypothesis\n",
    "    * p-value<$\\alpha$ reject $H_0$, accept $H_1$\n",
    "    * p-value>$\\alpha$ dont reject $H_0$\n",
    "* critical value -> the least extreme sample that would lead to rejection of $H_0$, based on $\\alpha$\n",
    "* power of the test -> 1 - type II error proba, with $\\alpha$ increasing $\\beta$ decreasing (for sample with a fixed size)\n",
    "\n",
    "Testing steps\n",
    "\n",
    "* state hypotheses - null & alternative\n",
    "* design test - test statistic parameter, significance level\n",
    "* compute the observed statistic\n",
    "* reach conlcusion using p-values\n"
   ]
  }
 ],
 "metadata": {
  "kernelspec": {
   "display_name": ".env",
   "language": "python",
   "name": "python3"
  },
  "language_info": {
   "codemirror_mode": {
    "name": "ipython",
    "version": 3
   },
   "file_extension": ".py",
   "mimetype": "text/x-python",
   "name": "python",
   "nbconvert_exporter": "python",
   "pygments_lexer": "ipython3",
   "version": "3.8.10"
  }
 },
 "nbformat": 4,
 "nbformat_minor": 2
}
