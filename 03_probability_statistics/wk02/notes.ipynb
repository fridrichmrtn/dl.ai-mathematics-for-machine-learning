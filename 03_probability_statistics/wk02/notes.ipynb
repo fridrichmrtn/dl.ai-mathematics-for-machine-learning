{
 "cells": [
  {
   "cell_type": "markdown",
   "metadata": {},
   "source": [
    "# Describing distributions\n",
    "\n",
    "**Expected value**\n",
    "* weighted average over PMF (discrete var)\n",
    "* weighted average over PDF (continuous var)\n",
    "    * $\\int_{\\infty}^{-\\infty} x f_X(x)$\n",
    "    * mass vs spread \n",
    "* $E[X]$\n",
    "* generally $E[aX+b] = aE[X]+b$\n",
    "    * linear operator\n",
    "    * expected value of a constant is the constant\n",
    "* sum of expectations $E[X_1+X_2+...+X_n]=E[X_1]+E[X_2]+...+E[X_n]$\n",
    "\n",
    "Other centrality measures\n",
    "* median \n",
    "    * spliting AUC in half\n",
    "    * more robust to outliers\n",
    "* mode\n",
    "    * the most frequent value (highest probability)\n",
    "    * more robust to outliers\n",
    "\n",
    "**Variance and SD**\n",
    "* deviation $x-E[X]$, expected absolute deviation $E[|x-E[X]|]$\n",
    "* expected square deviation $Var(X) = E[(x-E[X])^2]$ (variance)\n",
    "* properties\n",
    "    * $Var(aX+B) = a^2Var(X)$\n",
    "* $SD(X) = Var(X)^{\\frac{1}{2}}$, solving for squared units\n",
    "\n",
    "**Skewness and kurtosis**\n",
    "* moments of distribution, first $E[X]$, second $E[X^2]$, ..., kth $E[X^k]$\n",
    "* standardized third moment $E[(\\frac{X-\\mu}{\\sigma})^3]$ depicts the positive (right) or negative (left) skewness \n",
    "* standardized fourth moment $E[(\\frac{X-\\mu}{\\sigma})^4]$ translates to thin (small) or thick (large) tails\n",
    "\n",
    "**Kernel density estimator**\n",
    "* represent each point as a probability distribution (ie standard normal one)\n",
    "* sum up the distributions to form a curve\n",
    "* normalize (scale back so AUC is 1)"
   ]
  },
  {
   "cell_type": "markdown",
   "metadata": {},
   "source": [
    "# Probability distributions with multiple variables\n",
    "\n",
    "* joint distributions - multiple facets of a problem coupled together (age and weight)\n",
    "* marginal distribution - reducing a joint distribution to one of the variables (looking at age only)\n",
    "* conditional distribution - slicing a joint distribution based on a condition (looking at weight for people older than 30)\n",
    "    * for discrete conditional distribution -> $p_{Y|X=x}(y)=\\frac{p_{XY}(x,y)}{p_X(x)}$ (based on the conditional rule)\n",
    "\n",
    "**Covariance and correlation**\n",
    "* $Cov(X,Y) = \\frac{\\sum(x_i-\\mu_x)(y_i-\\mu_u)}{n}$\n",
    "    * for unequal probabilities, weighting by the joint probability\n",
    "    * $Cov(X,Y) = \\sum p_{XY}(x_i,y_i)(x_i-\\mu_x)(y_i-\\mu_y) = E[XY] - E[X]E[Y]$\n",
    "    * covariance matrix $\\Sigma$ - variance on diagonal, covariance on remaining pairs\n",
    "* $Corr(X,Y) = \\frac{\\sum(x_i-\\mu_x)(y_i-\\mu_u)}{\\sigma_X\\sigma_Y}$\n",
    "\n"
   ]
  },
  {
   "cell_type": "markdown",
   "metadata": {},
   "source": []
  }
 ],
 "metadata": {
  "kernelspec": {
   "display_name": ".env",
   "language": "python",
   "name": "python3"
  },
  "language_info": {
   "codemirror_mode": {
    "name": "ipython",
    "version": 3
   },
   "file_extension": ".py",
   "mimetype": "text/x-python",
   "name": "python",
   "nbconvert_exporter": "python",
   "pygments_lexer": "ipython3",
   "version": "3.8.10"
  }
 },
 "nbformat": 4,
 "nbformat_minor": 2
}
