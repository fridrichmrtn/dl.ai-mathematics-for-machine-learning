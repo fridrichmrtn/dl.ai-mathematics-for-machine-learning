{
 "cells": [
  {
   "cell_type": "markdown",
   "metadata": {},
   "source": [
    "# Derivatives\n",
    "\n",
    "\n",
    "### Intro\n",
    "\n",
    "* derivative allows us to describe rate of change of a function, rise over run\n",
    "* first derivative is geometrically interpreted as tangent to a function in a given point\n",
    "* $\\frac{\\Delta y}{\\Delta x} = lim_{\\Delta x \\rightarrow 0}\\frac{f(x+\\Delta x)-f(x)}{\\Delta x} = \\frac{dy}{dx} = f'(x)$ => Leibnitz and Lagrange notations\n",
    "* potential extremes of a function at points where $\\frac{\\Delta y}{\\Delta x} = 0$\n",
    "\n",
    "### Common derivatives\n",
    "\n",
    "* can be analytically expressed from the definition $lim_{\\Delta x \\rightarrow 0}\\frac{f(x+\\Delta x)-f(x)}{\\Delta x}$\n",
    "* polynomials & power funcs $f'(x^n) = nx^{(n-1)}$\n",
    "* trigonometric funcs $f'(sinx) = cosx, \\hspace{0.1cm} f'(cosx) = -sinx$ (nice expression using unitary circle)\n",
    "* exponetials $f'(e^x) = e^x$ (geometrical series)\n",
    "* logarithms $f'(ln x) = \\frac{1}{x}$\n",
    "\n",
    "### Properties\n",
    "\n",
    "* derivatives of inverse func\n",
    "$$\n",
    "g(y) = f^{-1}(x), \\hspace{0.5cm} f'(x) = \\frac{\\Delta y}{\\Delta x}, \\hspace{0.5cm} g'(y) = \\frac{\\Delta g}{\\Delta y}\\\\\n",
    "g'(y) = \\frac{1}{f'(x)}\n",
    "$$\n",
    "* non-differentiable functions: non-smooth, non-continuous, vertical tangent (non-defined tangent slope)\n",
    "* multiplication by scalar $f'(cg) = cg'$\n",
    "* sum rule $f'(g+h) = g' + h'$\n",
    "* product rule $f'(gh) = g'h+gh'$\n",
    "* chain rule $\\frac{d}{dt} g(h(t)) = \\frac{dg}{dh} \\frac{dh}{dt}$\n",
    "\n",
    "# Optimization\n",
    "\n",
    "* square-loss\n",
    "    * minimizing square distance from the points\n",
    "    \n",
    "* log-loss\n",
    "    * minimizing $g(p)$ is same as minimizing $log(g(p))$\n",
    "    * from that we leverage log property to reformulate the function to $G(p)$\n",
    "    * derive from there\n",
    "    * log-loss is $-G(p)$ (as log is negative for probs)"
   ]
  }
 ],
 "metadata": {
  "language_info": {
   "name": "python"
  }
 },
 "nbformat": 4,
 "nbformat_minor": 2
}
