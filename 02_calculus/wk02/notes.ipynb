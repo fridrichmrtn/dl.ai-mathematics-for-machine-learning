{
 "cells": [
  {
   "cell_type": "markdown",
   "metadata": {},
   "source": [
    "# Gradients\n",
    "\n",
    "* partial derivatives of multivar funcs - treating other vars (not included in derivative) as constant\n",
    "* gradient - vector of partial derivatives; $\\nabla f = \\begin{bmatrix} \\frac{\\delta f}{\\delta x} ,& \\frac{\\delta f}{\\delta y} \\end{bmatrix}$\n",
    "* local extremes - conceptually same as for univariate problems, $\\nabla f = \\begin{bmatrix} \\frac{\\delta f}{\\delta x} ,& \\frac{\\delta f}{\\delta y} \\end{bmatrix} = \\begin{bmatrix} 0 ,& 0\\end{bmatrix}$\n",
    "* saddle point - candidate point (minmax) but not an extrema\n",
    "\n",
    "# Gradient descent\n",
    "\n",
    "* check a slope of a tangent line at given point (derivative)\n",
    "* move into oposite direction (scale step using learning rate) $-\\nabla f $\n",
    "* repeat until sign of slope changes (or steps stop changing)\n",
    "\n",
    "Challenges\n",
    "* how to pick a learning rate $\\alpha$\n",
    "* local extremes - initialize the algorithm from multiple starting points"
   ]
  }
 ],
 "metadata": {
  "language_info": {
   "name": "python"
  }
 },
 "nbformat": 4,
 "nbformat_minor": 2
}
