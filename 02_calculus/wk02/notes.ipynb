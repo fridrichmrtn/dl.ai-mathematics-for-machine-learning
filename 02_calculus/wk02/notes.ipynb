{
 "cells": [
  {
   "cell_type": "markdown",
   "metadata": {},
   "source": [
    "# Gradients\n",
    "\n",
    "* partial derivatives of multivar funcs - treating other vars (not included in derivative) as constant\n",
    "* gradient - vector of partial derivatives; $\\nabla f = \\begin{bmatrix} \\frac{\\delta f}{\\delta x} \\\\ \\frac{\\delta f}{\\delta y} \\end{bmatrix}$\n",
    "* local extremes - conceptually same as for univariate problems, $\\nabla f = \\begin{bmatrix} \\frac{\\delta f}{\\delta x} \\\\ \\frac{\\delta f}{\\delta y} \\end{bmatrix} = \\begin{bmatrix} 0 \\\\ 0\\end{bmatrix}$\n",
    "* saddle point - candidate point (minmax) but not an extrema\n",
    "\n",
    "# Gradient descent\n",
    "\n",
    "* check a slope of a tangent line at given point (derivative)\n",
    "* move into oposite direction (scale step using learning rate) $-\\nabla L $\n",
    "* repeat until sign of slope changes (or steps stop changing)\n",
    "\n",
    "$$\n",
    "\\begin{bmatrix} m_N \\\\ b_N \\end{bmatrix} = \\begin{bmatrix} m_{N-1} \\\\ b_{N-1} \\end{bmatrix} - \\alpha \\nabla L(m_{N-1}, b_{N-1})\n",
    "$$\n",
    "\n",
    "Challenges\n",
    "* how to pick a learning rate $\\alpha$\n",
    "* local extremes - initialize the algorithm from multiple starting points\n",
    "\n",
    "\n"
   ]
  }
 ],
 "metadata": {
  "kernelspec": {
   "display_name": ".env",
   "language": "python",
   "name": "python3"
  },
  "language_info": {
   "codemirror_mode": {
    "name": "ipython",
    "version": 3
   },
   "file_extension": ".py",
   "mimetype": "text/x-python",
   "name": "python",
   "nbconvert_exporter": "python",
   "pygments_lexer": "ipython3",
   "version": "3.8.10"
  }
 },
 "nbformat": 4,
 "nbformat_minor": 2
}
